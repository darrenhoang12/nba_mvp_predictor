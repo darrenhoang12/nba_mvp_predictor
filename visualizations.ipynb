{
 "cells": [
  {
   "cell_type": "code",
   "execution_count": 1,
   "metadata": {},
   "outputs": [],
   "source": [
    "import pandas as pd\n",
    "import matplotlib.pyplot as plt\n",
    "from pathlib import Path"
   ]
  },
  {
   "cell_type": "code",
   "execution_count": 2,
   "metadata": {},
   "outputs": [],
   "source": [
    "merged_save_path = Path('data') / 'merged'"
   ]
  },
  {
   "cell_type": "code",
   "execution_count": 3,
   "metadata": {},
   "outputs": [
    {
     "data": {
      "text/html": [
       "<div>\n",
       "<style scoped>\n",
       "    .dataframe tbody tr th:only-of-type {\n",
       "        vertical-align: middle;\n",
       "    }\n",
       "\n",
       "    .dataframe tbody tr th {\n",
       "        vertical-align: top;\n",
       "    }\n",
       "\n",
       "    .dataframe thead th {\n",
       "        text-align: right;\n",
       "    }\n",
       "</style>\n",
       "<table border=\"1\" class=\"dataframe\">\n",
       "  <thead>\n",
       "    <tr style=\"text-align: right;\">\n",
       "      <th></th>\n",
       "      <th>player</th>\n",
       "      <th>age</th>\n",
       "      <th>g</th>\n",
       "      <th>gs</th>\n",
       "      <th>mp</th>\n",
       "      <th>fg</th>\n",
       "      <th>fga</th>\n",
       "      <th>fg%</th>\n",
       "      <th>3p</th>\n",
       "      <th>3pa</th>\n",
       "      <th>...</th>\n",
       "      <th>dws</th>\n",
       "      <th>ws</th>\n",
       "      <th>ws/48</th>\n",
       "      <th>obpm</th>\n",
       "      <th>dbpm</th>\n",
       "      <th>bpm</th>\n",
       "      <th>vorp</th>\n",
       "      <th>mvp_share</th>\n",
       "      <th>mvp_rank</th>\n",
       "      <th>first_place_votes</th>\n",
       "    </tr>\n",
       "  </thead>\n",
       "  <tbody>\n",
       "    <tr>\n",
       "      <th>0</th>\n",
       "      <td>Shareef Abdur-Rahim</td>\n",
       "      <td>23</td>\n",
       "      <td>82</td>\n",
       "      <td>82</td>\n",
       "      <td>39.3</td>\n",
       "      <td>7.2</td>\n",
       "      <td>15.6</td>\n",
       "      <td>0.465</td>\n",
       "      <td>0.4</td>\n",
       "      <td>1.2</td>\n",
       "      <td>...</td>\n",
       "      <td>2.6</td>\n",
       "      <td>8.8</td>\n",
       "      <td>0.132</td>\n",
       "      <td>2.6</td>\n",
       "      <td>-0.4</td>\n",
       "      <td>2.2</td>\n",
       "      <td>3.4</td>\n",
       "      <td>0.000</td>\n",
       "      <td>0</td>\n",
       "      <td>0.0</td>\n",
       "    </tr>\n",
       "    <tr>\n",
       "      <th>1</th>\n",
       "      <td>Ray Allen</td>\n",
       "      <td>24</td>\n",
       "      <td>82</td>\n",
       "      <td>82</td>\n",
       "      <td>37.4</td>\n",
       "      <td>7.8</td>\n",
       "      <td>17.2</td>\n",
       "      <td>0.455</td>\n",
       "      <td>2.1</td>\n",
       "      <td>5.0</td>\n",
       "      <td>...</td>\n",
       "      <td>1.0</td>\n",
       "      <td>10.1</td>\n",
       "      <td>0.157</td>\n",
       "      <td>4.7</td>\n",
       "      <td>-1.1</td>\n",
       "      <td>3.6</td>\n",
       "      <td>4.3</td>\n",
       "      <td>0.000</td>\n",
       "      <td>0</td>\n",
       "      <td>0.0</td>\n",
       "    </tr>\n",
       "    <tr>\n",
       "      <th>2</th>\n",
       "      <td>Darrell Armstrong</td>\n",
       "      <td>31</td>\n",
       "      <td>82</td>\n",
       "      <td>82</td>\n",
       "      <td>31.6</td>\n",
       "      <td>5.9</td>\n",
       "      <td>13.6</td>\n",
       "      <td>0.433</td>\n",
       "      <td>1.7</td>\n",
       "      <td>4.9</td>\n",
       "      <td>...</td>\n",
       "      <td>3.4</td>\n",
       "      <td>8.0</td>\n",
       "      <td>0.149</td>\n",
       "      <td>3.6</td>\n",
       "      <td>0.9</td>\n",
       "      <td>4.5</td>\n",
       "      <td>4.3</td>\n",
       "      <td>0.001</td>\n",
       "      <td>13T</td>\n",
       "      <td>0.0</td>\n",
       "    </tr>\n",
       "    <tr>\n",
       "      <th>3</th>\n",
       "      <td>Elton Brand</td>\n",
       "      <td>20</td>\n",
       "      <td>81</td>\n",
       "      <td>80</td>\n",
       "      <td>37.0</td>\n",
       "      <td>7.8</td>\n",
       "      <td>16.1</td>\n",
       "      <td>0.482</td>\n",
       "      <td>0.0</td>\n",
       "      <td>0.0</td>\n",
       "      <td>...</td>\n",
       "      <td>3.3</td>\n",
       "      <td>7.5</td>\n",
       "      <td>0.121</td>\n",
       "      <td>2.2</td>\n",
       "      <td>-0.9</td>\n",
       "      <td>1.3</td>\n",
       "      <td>2.5</td>\n",
       "      <td>0.000</td>\n",
       "      <td>0</td>\n",
       "      <td>0.0</td>\n",
       "    </tr>\n",
       "    <tr>\n",
       "      <th>4</th>\n",
       "      <td>Terrell Brandon</td>\n",
       "      <td>29</td>\n",
       "      <td>71</td>\n",
       "      <td>71</td>\n",
       "      <td>36.4</td>\n",
       "      <td>6.8</td>\n",
       "      <td>14.7</td>\n",
       "      <td>0.466</td>\n",
       "      <td>0.7</td>\n",
       "      <td>1.9</td>\n",
       "      <td>...</td>\n",
       "      <td>2.8</td>\n",
       "      <td>8.6</td>\n",
       "      <td>0.159</td>\n",
       "      <td>3.9</td>\n",
       "      <td>0.3</td>\n",
       "      <td>4.3</td>\n",
       "      <td>4.1</td>\n",
       "      <td>0.000</td>\n",
       "      <td>0</td>\n",
       "      <td>0.0</td>\n",
       "    </tr>\n",
       "  </tbody>\n",
       "</table>\n",
       "<p>5 rows × 52 columns</p>\n",
       "</div>"
      ],
      "text/plain": [
       "                player  age   g  gs    mp   fg   fga    fg%   3p  3pa  ...  \\\n",
       "0  Shareef Abdur-Rahim   23  82  82  39.3  7.2  15.6  0.465  0.4  1.2  ...   \n",
       "1            Ray Allen   24  82  82  37.4  7.8  17.2  0.455  2.1  5.0  ...   \n",
       "2    Darrell Armstrong   31  82  82  31.6  5.9  13.6  0.433  1.7  4.9  ...   \n",
       "3          Elton Brand   20  81  80  37.0  7.8  16.1  0.482  0.0  0.0  ...   \n",
       "4      Terrell Brandon   29  71  71  36.4  6.8  14.7  0.466  0.7  1.9  ...   \n",
       "\n",
       "   dws    ws  ws/48  obpm  dbpm  bpm  vorp  mvp_share  mvp_rank  \\\n",
       "0  2.6   8.8  0.132   2.6  -0.4  2.2   3.4      0.000         0   \n",
       "1  1.0  10.1  0.157   4.7  -1.1  3.6   4.3      0.000         0   \n",
       "2  3.4   8.0  0.149   3.6   0.9  4.5   4.3      0.001       13T   \n",
       "3  3.3   7.5  0.121   2.2  -0.9  1.3   2.5      0.000         0   \n",
       "4  2.8   8.6  0.159   3.9   0.3  4.3   4.1      0.000         0   \n",
       "\n",
       "   first_place_votes  \n",
       "0                0.0  \n",
       "1                0.0  \n",
       "2                0.0  \n",
       "3                0.0  \n",
       "4                0.0  \n",
       "\n",
       "[5 rows x 52 columns]"
      ]
     },
     "execution_count": 3,
     "metadata": {},
     "output_type": "execute_result"
    }
   ],
   "source": [
    "player_data = pd.read_csv(merged_save_path / 'player_data.csv')\n",
    "player_data.head()"
   ]
  },
  {
   "cell_type": "code",
   "execution_count": 4,
   "metadata": {},
   "outputs": [
    {
     "data": {
      "image/png": "[encoded data removed]",
      "text/plain": [
       "<Figure size 640x480 with 1 Axes>"
      ]
     },
     "metadata": {},
     "output_type": "display_data"
    }
   ],
   "source": [
    "player_data['age'].value_counts().plot.barh()\n",
    "plt.show()"
   ]
  },
  {
   "attachments": {},
   "cell_type": "markdown",
   "metadata": {},
   "source": [
    "## Modeling"
   ]
  },
  {
   "cell_type": "code",
   "execution_count": 5,
   "metadata": {},
   "outputs": [
    {
     "data": {
      "text/html": [
       "<div>\n",
       "<style scoped>\n",
       "    .dataframe tbody tr th:only-of-type {\n",
       "        vertical-align: middle;\n",
       "    }\n",
       "\n",
       "    .dataframe tbody tr th {\n",
       "        vertical-align: top;\n",
       "    }\n",
       "\n",
       "    .dataframe thead th {\n",
       "        text-align: right;\n",
       "    }\n",
       "</style>\n",
       "<table border=\"1\" class=\"dataframe\">\n",
       "  <thead>\n",
       "    <tr style=\"text-align: right;\">\n",
       "      <th></th>\n",
       "      <th>player</th>\n",
       "      <th>age</th>\n",
       "      <th>g</th>\n",
       "      <th>gs</th>\n",
       "      <th>mp</th>\n",
       "      <th>fg</th>\n",
       "      <th>fga</th>\n",
       "      <th>fg%</th>\n",
       "      <th>3p</th>\n",
       "      <th>3pa</th>\n",
       "      <th>...</th>\n",
       "      <th>dws</th>\n",
       "      <th>ws</th>\n",
       "      <th>ws/48</th>\n",
       "      <th>obpm</th>\n",
       "      <th>dbpm</th>\n",
       "      <th>bpm</th>\n",
       "      <th>vorp</th>\n",
       "      <th>mvp_share</th>\n",
       "      <th>mvp_rank</th>\n",
       "      <th>first_place_votes</th>\n",
       "    </tr>\n",
       "  </thead>\n",
       "  <tbody>\n",
       "    <tr>\n",
       "      <th>0</th>\n",
       "      <td>Shareef Abdur-Rahim</td>\n",
       "      <td>23</td>\n",
       "      <td>82</td>\n",
       "      <td>82</td>\n",
       "      <td>39.3</td>\n",
       "      <td>7.2</td>\n",
       "      <td>15.6</td>\n",
       "      <td>0.465</td>\n",
       "      <td>0.4</td>\n",
       "      <td>1.2</td>\n",
       "      <td>...</td>\n",
       "      <td>2.6</td>\n",
       "      <td>8.8</td>\n",
       "      <td>0.132</td>\n",
       "      <td>2.6</td>\n",
       "      <td>-0.4</td>\n",
       "      <td>2.2</td>\n",
       "      <td>3.4</td>\n",
       "      <td>0.000</td>\n",
       "      <td>0</td>\n",
       "      <td>0.0</td>\n",
       "    </tr>\n",
       "    <tr>\n",
       "      <th>1</th>\n",
       "      <td>Ray Allen</td>\n",
       "      <td>24</td>\n",
       "      <td>82</td>\n",
       "      <td>82</td>\n",
       "      <td>37.4</td>\n",
       "      <td>7.8</td>\n",
       "      <td>17.2</td>\n",
       "      <td>0.455</td>\n",
       "      <td>2.1</td>\n",
       "      <td>5.0</td>\n",
       "      <td>...</td>\n",
       "      <td>1.0</td>\n",
       "      <td>10.1</td>\n",
       "      <td>0.157</td>\n",
       "      <td>4.7</td>\n",
       "      <td>-1.1</td>\n",
       "      <td>3.6</td>\n",
       "      <td>4.3</td>\n",
       "      <td>0.000</td>\n",
       "      <td>0</td>\n",
       "      <td>0.0</td>\n",
       "    </tr>\n",
       "    <tr>\n",
       "      <th>2</th>\n",
       "      <td>Darrell Armstrong</td>\n",
       "      <td>31</td>\n",
       "      <td>82</td>\n",
       "      <td>82</td>\n",
       "      <td>31.6</td>\n",
       "      <td>5.9</td>\n",
       "      <td>13.6</td>\n",
       "      <td>0.433</td>\n",
       "      <td>1.7</td>\n",
       "      <td>4.9</td>\n",
       "      <td>...</td>\n",
       "      <td>3.4</td>\n",
       "      <td>8.0</td>\n",
       "      <td>0.149</td>\n",
       "      <td>3.6</td>\n",
       "      <td>0.9</td>\n",
       "      <td>4.5</td>\n",
       "      <td>4.3</td>\n",
       "      <td>0.001</td>\n",
       "      <td>13T</td>\n",
       "      <td>0.0</td>\n",
       "    </tr>\n",
       "    <tr>\n",
       "      <th>3</th>\n",
       "      <td>Elton Brand</td>\n",
       "      <td>20</td>\n",
       "      <td>81</td>\n",
       "      <td>80</td>\n",
       "      <td>37.0</td>\n",
       "      <td>7.8</td>\n",
       "      <td>16.1</td>\n",
       "      <td>0.482</td>\n",
       "      <td>0.0</td>\n",
       "      <td>0.0</td>\n",
       "      <td>...</td>\n",
       "      <td>3.3</td>\n",
       "      <td>7.5</td>\n",
       "      <td>0.121</td>\n",
       "      <td>2.2</td>\n",
       "      <td>-0.9</td>\n",
       "      <td>1.3</td>\n",
       "      <td>2.5</td>\n",
       "      <td>0.000</td>\n",
       "      <td>0</td>\n",
       "      <td>0.0</td>\n",
       "    </tr>\n",
       "    <tr>\n",
       "      <th>4</th>\n",
       "      <td>Terrell Brandon</td>\n",
       "      <td>29</td>\n",
       "      <td>71</td>\n",
       "      <td>71</td>\n",
       "      <td>36.4</td>\n",
       "      <td>6.8</td>\n",
       "      <td>14.7</td>\n",
       "      <td>0.466</td>\n",
       "      <td>0.7</td>\n",
       "      <td>1.9</td>\n",
       "      <td>...</td>\n",
       "      <td>2.8</td>\n",
       "      <td>8.6</td>\n",
       "      <td>0.159</td>\n",
       "      <td>3.9</td>\n",
       "      <td>0.3</td>\n",
       "      <td>4.3</td>\n",
       "      <td>4.1</td>\n",
       "      <td>0.000</td>\n",
       "      <td>0</td>\n",
       "      <td>0.0</td>\n",
       "    </tr>\n",
       "  </tbody>\n",
       "</table>\n",
       "<p>5 rows × 52 columns</p>\n",
       "</div>"
      ],
      "text/plain": [
       "                player  age   g  gs    mp   fg   fga    fg%   3p  3pa  ...  \\\n",
       "0  Shareef Abdur-Rahim   23  82  82  39.3  7.2  15.6  0.465  0.4  1.2  ...   \n",
       "1            Ray Allen   24  82  82  37.4  7.8  17.2  0.455  2.1  5.0  ...   \n",
       "2    Darrell Armstrong   31  82  82  31.6  5.9  13.6  0.433  1.7  4.9  ...   \n",
       "3          Elton Brand   20  81  80  37.0  7.8  16.1  0.482  0.0  0.0  ...   \n",
       "4      Terrell Brandon   29  71  71  36.4  6.8  14.7  0.466  0.7  1.9  ...   \n",
       "\n",
       "   dws    ws  ws/48  obpm  dbpm  bpm  vorp  mvp_share  mvp_rank  \\\n",
       "0  2.6   8.8  0.132   2.6  -0.4  2.2   3.4      0.000         0   \n",
       "1  1.0  10.1  0.157   4.7  -1.1  3.6   4.3      0.000         0   \n",
       "2  3.4   8.0  0.149   3.6   0.9  4.5   4.3      0.001       13T   \n",
       "3  3.3   7.5  0.121   2.2  -0.9  1.3   2.5      0.000         0   \n",
       "4  2.8   8.6  0.159   3.9   0.3  4.3   4.1      0.000         0   \n",
       "\n",
       "   first_place_votes  \n",
       "0                0.0  \n",
       "1                0.0  \n",
       "2                0.0  \n",
       "3                0.0  \n",
       "4                0.0  \n",
       "\n",
       "[5 rows x 52 columns]"
      ]
     },
     "execution_count": 5,
     "metadata": {},
     "output_type": "execute_result"
    }
   ],
   "source": [
    "from model import *\n",
    "\n",
    "years_test = [2022]\n",
    "metrics_df = pd.DataFrame()\n",
    "player_data.head()"
   ]
  },
  {
   "cell_type": "code",
   "execution_count": 8,
   "metadata": {},
   "outputs": [
    {
     "name": "stdout",
     "output_type": "stream",
     "text": [
      "\n",
      "\n",
      "FINAL RESULTS:\n",
      "Loaded models/svm_2022.dat\n"
     ]
    },
    {
     "data": {
      "image/png": "[encoded data removed]",
      "text/plain": [
       "<Figure size 640x480 with 1 Axes>"
      ]
     },
     "metadata": {},
     "output_type": "display_data"
    },
    {
     "name": "stdout",
     "output_type": "stream",
     "text": [
      "         Player (Actual)  MVP Share (Actual)    Player (models/svm)  \\\n",
      "0           Nikola Jokić               0.875           Nikola Jokić   \n",
      "0            Joel Embiid               0.706  Giannis Antetokounmpo   \n",
      "0  Giannis Antetokounmpo               0.595            Joel Embiid   \n",
      "\n",
      "   MVP Share (models/svm)  \n",
      "0                0.574087  \n",
      "0                0.389805  \n",
      "0                0.266489  \n",
      "Loaded models/randomforest_2022.dat\n"
     ]
    },
    {
     "data": {
      "image/png": "[encoded data removed]",
      "text/plain": [
       "<Figure size 640x480 with 1 Axes>"
      ]
     },
     "metadata": {},
     "output_type": "display_data"
    },
    {
     "name": "stdout",
     "output_type": "stream",
     "text": [
      "         Player (Actual)  MVP Share (Actual) Player (models/randomforest)  \\\n",
      "0           Nikola Jokić               0.875                 Nikola Jokić   \n",
      "0            Joel Embiid               0.706        Giannis Antetokounmpo   \n",
      "0  Giannis Antetokounmpo               0.595                  Joel Embiid   \n",
      "\n",
      "   MVP Share (models/randomforest)  \n",
      "0                          0.78344  \n",
      "0                          0.60232  \n",
      "0                          0.45806  \n",
      "Loaded models/elasticnet_2022.dat\n"
     ]
    },
    {
     "data": {
      "image/png": "[encoded data removed]",
      "text/plain": [
       "<Figure size 640x480 with 1 Axes>"
      ]
     },
     "metadata": {},
     "output_type": "display_data"
    },
    {
     "name": "stdout",
     "output_type": "stream",
     "text": [
      "         Player (Actual)  MVP Share (Actual) Player (models/elasticnet)  \\\n",
      "0           Nikola Jokić               0.875                Bam Adebayo   \n",
      "0            Joel Embiid               0.706      Giannis Antetokounmpo   \n",
      "0  Giannis Antetokounmpo               0.595             Christian Wood   \n",
      "\n",
      "   MVP Share (models/elasticnet)  \n",
      "0                       0.050866  \n",
      "0                       0.050866  \n",
      "0                       0.050866  \n",
      "Loaded models/adaboost_2022.dat\n"
     ]
    },
    {
     "data": {
      "image/png": "[encoded data removed]",
      "text/plain": [
       "<Figure size 640x480 with 1 Axes>"
      ]
     },
     "metadata": {},
     "output_type": "display_data"
    },
    {
     "name": "stdout",
     "output_type": "stream",
     "text": [
      "         Player (Actual)  MVP Share (Actual) Player (models/adaboost)  \\\n",
      "0           Nikola Jokić               0.875             Nikola Jokić   \n",
      "0            Joel Embiid               0.706    Giannis Antetokounmpo   \n",
      "0  Giannis Antetokounmpo               0.595              Joel Embiid   \n",
      "\n",
      "   MVP Share (models/adaboost)  \n",
      "0                     0.863882  \n",
      "0                     0.814588  \n",
      "0                     0.527786  \n",
      "Loaded models/gradboost_2022.dat\n"
     ]
    },
    {
     "data": {
      "image/png": "[encoded data removed]",
      "text/plain": [
       "<Figure size 640x480 with 1 Axes>"
      ]
     },
     "metadata": {},
     "output_type": "display_data"
    },
    {
     "name": "stdout",
     "output_type": "stream",
     "text": [
      "         Player (Actual)  MVP Share (Actual) Player (models/gradboost)  \\\n",
      "0           Nikola Jokić               0.875              Nikola Jokić   \n",
      "0            Joel Embiid               0.706     Giannis Antetokounmpo   \n",
      "0  Giannis Antetokounmpo               0.595               Joel Embiid   \n",
      "\n",
      "   MVP Share (models/gradboost)  \n",
      "0                      0.241596  \n",
      "0                      0.202197  \n",
      "0                      0.202197  \n"
     ]
    },
    {
     "data": {
      "text/html": [
       "<div>\n",
       "<style scoped>\n",
       "    .dataframe tbody tr th:only-of-type {\n",
       "        vertical-align: middle;\n",
       "    }\n",
       "\n",
       "    .dataframe tbody tr th {\n",
       "        vertical-align: top;\n",
       "    }\n",
       "\n",
       "    .dataframe thead th {\n",
       "        text-align: right;\n",
       "    }\n",
       "</style>\n",
       "<table border=\"1\" class=\"dataframe\">\n",
       "  <thead>\n",
       "    <tr style=\"text-align: right;\">\n",
       "      <th></th>\n",
       "      <th>Model</th>\n",
       "      <th>Year</th>\n",
       "      <th>RMSE</th>\n",
       "      <th>R2</th>\n",
       "    </tr>\n",
       "  </thead>\n",
       "  <tbody>\n",
       "    <tr>\n",
       "      <th>0</th>\n",
       "      <td>models/svm</td>\n",
       "      <td>2022</td>\n",
       "      <td>0.117495</td>\n",
       "      <td>0.700860</td>\n",
       "    </tr>\n",
       "    <tr>\n",
       "      <th>0</th>\n",
       "      <td>models/randomforest</td>\n",
       "      <td>2022</td>\n",
       "      <td>0.077365</td>\n",
       "      <td>0.870305</td>\n",
       "    </tr>\n",
       "    <tr>\n",
       "      <th>0</th>\n",
       "      <td>models/elasticnet</td>\n",
       "      <td>2022</td>\n",
       "      <td>0.216962</td>\n",
       "      <td>-0.020004</td>\n",
       "    </tr>\n",
       "    <tr>\n",
       "      <th>0</th>\n",
       "      <td>models/adaboost</td>\n",
       "      <td>2022</td>\n",
       "      <td>0.067964</td>\n",
       "      <td>0.899911</td>\n",
       "    </tr>\n",
       "    <tr>\n",
       "      <th>0</th>\n",
       "      <td>models/gradboost</td>\n",
       "      <td>2022</td>\n",
       "      <td>0.167085</td>\n",
       "      <td>0.395068</td>\n",
       "    </tr>\n",
       "  </tbody>\n",
       "</table>\n",
       "</div>"
      ],
      "text/plain": [
       "                 Model  Year      RMSE        R2\n",
       "0           models/svm  2022  0.117495  0.700860\n",
       "0  models/randomforest  2022  0.077365  0.870305\n",
       "0    models/elasticnet  2022  0.216962 -0.020004\n",
       "0      models/adaboost  2022  0.067964  0.899911\n",
       "0     models/gradboost  2022  0.167085  0.395068"
      ]
     },
     "execution_count": 8,
     "metadata": {},
     "output_type": "execute_result"
    }
   ],
   "source": [
    "model_path = Path('models')\n",
    "list_paths2022 = [\n",
    "    model_path / 'svm_2022.dat',\n",
    "    model_path / 'randomforest_2022.dat',\n",
    "    model_path / 'elasticnet_2022.dat',\n",
    "    model_path / 'adaboost_2022.dat',\n",
    "    model_path / 'gradboost_2022.dat'\n",
    "]\n",
    "\n",
    "list_paths2023 = [\n",
    "    model_path / 'svm_2023.dat',\n",
    "    model_path / 'randomforest_2023.dat',\n",
    "    model_path / 'elasticnet_2023.dat',\n",
    "    model_path / 'adaboost_2023.dat',\n",
    "    model_path / 'gradboost_2023.dat'\n",
    "]\n",
    "\n",
    "load_model(player_data, list_paths2022, [2023])"
   ]
  },
  {
   "attachments": {},
   "cell_type": "markdown",
   "metadata": {},
   "source": [
    "### Support Vector Regression"
   ]
  },
  {
   "cell_type": "code",
   "execution_count": null,
   "metadata": {},
   "outputs": [],
   "source": [
    "metrics_df = svm_model(player_data, metrics_df, years_test)"
   ]
  },
  {
   "attachments": {},
   "cell_type": "markdown",
   "metadata": {},
   "source": [
    "### Random Forest"
   ]
  },
  {
   "cell_type": "code",
   "execution_count": null,
   "metadata": {},
   "outputs": [],
   "source": [
    "metrics_df = random_forest_model(player_data, metrics_df, years_test)"
   ]
  },
  {
   "attachments": {},
   "cell_type": "markdown",
   "metadata": {},
   "source": [
    "### ElasticNet"
   ]
  },
  {
   "cell_type": "code",
   "execution_count": null,
   "metadata": {},
   "outputs": [],
   "source": [
    "metrics_df = elastic_net_model(player_data, metrics_df, years_test)"
   ]
  },
  {
   "attachments": {},
   "cell_type": "markdown",
   "metadata": {},
   "source": [
    "### AdaBoost"
   ]
  },
  {
   "cell_type": "code",
   "execution_count": null,
   "metadata": {},
   "outputs": [],
   "source": [
    "metrics_df = adaboost_model(player_data, metrics_df, years_test)"
   ]
  },
  {
   "attachments": {},
   "cell_type": "markdown",
   "metadata": {},
   "source": [
    "### Gradient Boost"
   ]
  },
  {
   "cell_type": "code",
   "execution_count": null,
   "metadata": {},
   "outputs": [],
   "source": [
    "metrics_df = gradientboost_model(player_data, metrics_df, years_test)"
   ]
  },
  {
   "attachments": {},
   "cell_type": "markdown",
   "metadata": {},
   "source": [
    "### Final Results"
   ]
  },
  {
   "cell_type": "code",
   "execution_count": null,
   "metadata": {},
   "outputs": [],
   "source": [
    "metrics_df"
   ]
  }
 ],
 "metadata": {
  "kernelspec": {
   "display_name": "nba",
   "language": "python",
   "name": "python3"
  },
  "language_info": {
   "codemirror_mode": {
    "name": "ipython",
    "version": 3
   },
   "file_extension": ".py",
   "mimetype": "text/x-python",
   "name": "python",
   "nbconvert_exporter": "python",
   "pygments_lexer": "ipython3",
   "version": "3.11.3"
  },
  "orig_nbformat": 4
 },
 "nbformat": 4,
 "nbformat_minor": 2
}
