{
 "cells": [
  {
   "cell_type": "code",
   "execution_count": 1,
   "metadata": {},
   "outputs": [],
   "source": [
    "import pandas as pd\n",
    "import matplotlib.pyplot as plt\n",
    "from pathlib import Path"
   ]
  },
  {
   "cell_type": "code",
   "execution_count": 2,
   "metadata": {},
   "outputs": [],
   "source": [
    "merged_save_path = Path('data') / 'merged'"
   ]
  },
  {
   "cell_type": "code",
   "execution_count": 3,
   "metadata": {},
   "outputs": [
    {
     "data": {
      "text/html": [
       "<div>\n",
       "<style scoped>\n",
       "    .dataframe tbody tr th:only-of-type {\n",
       "        vertical-align: middle;\n",
       "    }\n",
       "\n",
       "    .dataframe tbody tr th {\n",
       "        vertical-align: top;\n",
       "    }\n",
       "\n",
       "    .dataframe thead th {\n",
       "        text-align: right;\n",
       "    }\n",
       "</style>\n",
       "<table border=\"1\" class=\"dataframe\">\n",
       "  <thead>\n",
       "    <tr style=\"text-align: right;\">\n",
       "      <th></th>\n",
       "      <th>player</th>\n",
       "      <th>age</th>\n",
       "      <th>g</th>\n",
       "      <th>gs</th>\n",
       "      <th>mp</th>\n",
       "      <th>fg</th>\n",
       "      <th>fga</th>\n",
       "      <th>fg%</th>\n",
       "      <th>3p</th>\n",
       "      <th>3pa</th>\n",
       "      <th>...</th>\n",
       "      <th>dws</th>\n",
       "      <th>ws</th>\n",
       "      <th>ws/48</th>\n",
       "      <th>obpm</th>\n",
       "      <th>dbpm</th>\n",
       "      <th>bpm</th>\n",
       "      <th>vorp</th>\n",
       "      <th>mvp_share</th>\n",
       "      <th>mvp_rank</th>\n",
       "      <th>first_place_votes</th>\n",
       "    </tr>\n",
       "  </thead>\n",
       "  <tbody>\n",
       "    <tr>\n",
       "      <th>0</th>\n",
       "      <td>Vince Carter</td>\n",
       "      <td>23</td>\n",
       "      <td>82</td>\n",
       "      <td>82</td>\n",
       "      <td>38.1</td>\n",
       "      <td>9.6</td>\n",
       "      <td>20.7</td>\n",
       "      <td>0.465</td>\n",
       "      <td>1.2</td>\n",
       "      <td>2.9</td>\n",
       "      <td>...</td>\n",
       "      <td>2.7</td>\n",
       "      <td>11.8</td>\n",
       "      <td>0.182</td>\n",
       "      <td>5.6</td>\n",
       "      <td>-0.1</td>\n",
       "      <td>5.5</td>\n",
       "      <td>5.9</td>\n",
       "      <td>0.042</td>\n",
       "      <td>10</td>\n",
       "      <td>0.0</td>\n",
       "    </tr>\n",
       "    <tr>\n",
       "      <th>1</th>\n",
       "      <td>Vince Carter</td>\n",
       "      <td>24</td>\n",
       "      <td>75</td>\n",
       "      <td>75</td>\n",
       "      <td>39.7</td>\n",
       "      <td>10.2</td>\n",
       "      <td>22.1</td>\n",
       "      <td>0.460</td>\n",
       "      <td>2.2</td>\n",
       "      <td>5.3</td>\n",
       "      <td>...</td>\n",
       "      <td>2.6</td>\n",
       "      <td>12.9</td>\n",
       "      <td>0.208</td>\n",
       "      <td>7.6</td>\n",
       "      <td>0.1</td>\n",
       "      <td>7.6</td>\n",
       "      <td>7.2</td>\n",
       "      <td>0.006</td>\n",
       "      <td>11T</td>\n",
       "      <td>0.0</td>\n",
       "    </tr>\n",
       "    <tr>\n",
       "      <th>2</th>\n",
       "      <td>Michael Finley</td>\n",
       "      <td>27</td>\n",
       "      <td>82</td>\n",
       "      <td>82</td>\n",
       "      <td>42.0</td>\n",
       "      <td>8.7</td>\n",
       "      <td>18.9</td>\n",
       "      <td>0.458</td>\n",
       "      <td>1.1</td>\n",
       "      <td>3.2</td>\n",
       "      <td>...</td>\n",
       "      <td>2.9</td>\n",
       "      <td>8.5</td>\n",
       "      <td>0.119</td>\n",
       "      <td>2.4</td>\n",
       "      <td>-0.5</td>\n",
       "      <td>1.9</td>\n",
       "      <td>3.4</td>\n",
       "      <td>0.001</td>\n",
       "      <td>15T</td>\n",
       "      <td>0.0</td>\n",
       "    </tr>\n",
       "    <tr>\n",
       "      <th>3</th>\n",
       "      <td>Dirk Nowitzki</td>\n",
       "      <td>23</td>\n",
       "      <td>76</td>\n",
       "      <td>76</td>\n",
       "      <td>38.0</td>\n",
       "      <td>7.9</td>\n",
       "      <td>16.6</td>\n",
       "      <td>0.477</td>\n",
       "      <td>1.8</td>\n",
       "      <td>4.6</td>\n",
       "      <td>...</td>\n",
       "      <td>3.1</td>\n",
       "      <td>13.4</td>\n",
       "      <td>0.222</td>\n",
       "      <td>5.4</td>\n",
       "      <td>0.1</td>\n",
       "      <td>5.5</td>\n",
       "      <td>5.5</td>\n",
       "      <td>0.025</td>\n",
       "      <td>8</td>\n",
       "      <td>0.0</td>\n",
       "    </tr>\n",
       "    <tr>\n",
       "      <th>4</th>\n",
       "      <td>Jerry Stackhouse</td>\n",
       "      <td>27</td>\n",
       "      <td>76</td>\n",
       "      <td>76</td>\n",
       "      <td>35.3</td>\n",
       "      <td>6.9</td>\n",
       "      <td>17.4</td>\n",
       "      <td>0.397</td>\n",
       "      <td>1.1</td>\n",
       "      <td>3.9</td>\n",
       "      <td>...</td>\n",
       "      <td>2.6</td>\n",
       "      <td>5.8</td>\n",
       "      <td>0.104</td>\n",
       "      <td>2.6</td>\n",
       "      <td>-1.2</td>\n",
       "      <td>1.4</td>\n",
       "      <td>2.4</td>\n",
       "      <td>0.002</td>\n",
       "      <td>15</td>\n",
       "      <td>0.0</td>\n",
       "    </tr>\n",
       "  </tbody>\n",
       "</table>\n",
       "<p>5 rows × 52 columns</p>\n",
       "</div>"
      ],
      "text/plain": [
       "             player  age   g  gs    mp    fg   fga    fg%   3p  3pa  ...  dws  \\\n",
       "0      Vince Carter   23  82  82  38.1   9.6  20.7  0.465  1.2  2.9  ...  2.7   \n",
       "1      Vince Carter   24  75  75  39.7  10.2  22.1  0.460  2.2  5.3  ...  2.6   \n",
       "2    Michael Finley   27  82  82  42.0   8.7  18.9  0.458  1.1  3.2  ...  2.9   \n",
       "3     Dirk Nowitzki   23  76  76  38.0   7.9  16.6  0.477  1.8  4.6  ...  3.1   \n",
       "4  Jerry Stackhouse   27  76  76  35.3   6.9  17.4  0.397  1.1  3.9  ...  2.6   \n",
       "\n",
       "     ws  ws/48  obpm  dbpm  bpm  vorp  mvp_share  mvp_rank  first_place_votes  \n",
       "0  11.8  0.182   5.6  -0.1  5.5   5.9      0.042        10                0.0  \n",
       "1  12.9  0.208   7.6   0.1  7.6   7.2      0.006       11T                0.0  \n",
       "2   8.5  0.119   2.4  -0.5  1.9   3.4      0.001       15T                0.0  \n",
       "3  13.4  0.222   5.4   0.1  5.5   5.5      0.025         8                0.0  \n",
       "4   5.8  0.104   2.6  -1.2  1.4   2.4      0.002        15                0.0  \n",
       "\n",
       "[5 rows x 52 columns]"
      ]
     },
     "execution_count": 3,
     "metadata": {},
     "output_type": "execute_result"
    }
   ],
   "source": [
    "player_data = pd.read_csv(merged_save_path / 'player_data.csv')\n",
    "player_data.head()"
   ]
  },
  {
   "cell_type": "code",
   "execution_count": 4,
   "metadata": {},
   "outputs": [
    {
     "data": {
      "image/png": "[encoded data removed]",
      "text/plain": [
       "<Figure size 640x480 with 1 Axes>"
      ]
     },
     "metadata": {},
     "output_type": "display_data"
    }
   ],
   "source": [
    "player_data['age'].value_counts().plot.barh()\n",
    "plt.show()"
   ]
  },
  {
   "attachments": {},
   "cell_type": "markdown",
   "metadata": {},
   "source": [
    "## Modeling"
   ]
  },
  {
   "cell_type": "code",
   "execution_count": 5,
   "metadata": {},
   "outputs": [
    {
     "data": {
      "text/html": [
       "<div>\n",
       "<style scoped>\n",
       "    .dataframe tbody tr th:only-of-type {\n",
       "        vertical-align: middle;\n",
       "    }\n",
       "\n",
       "    .dataframe tbody tr th {\n",
       "        vertical-align: top;\n",
       "    }\n",
       "\n",
       "    .dataframe thead th {\n",
       "        text-align: right;\n",
       "    }\n",
       "</style>\n",
       "<table border=\"1\" class=\"dataframe\">\n",
       "  <thead>\n",
       "    <tr style=\"text-align: right;\">\n",
       "      <th></th>\n",
       "      <th>player</th>\n",
       "      <th>age</th>\n",
       "      <th>g</th>\n",
       "      <th>gs</th>\n",
       "      <th>mp</th>\n",
       "      <th>fg</th>\n",
       "      <th>fga</th>\n",
       "      <th>fg%</th>\n",
       "      <th>3p</th>\n",
       "      <th>3pa</th>\n",
       "      <th>...</th>\n",
       "      <th>dws</th>\n",
       "      <th>ws</th>\n",
       "      <th>ws/48</th>\n",
       "      <th>obpm</th>\n",
       "      <th>dbpm</th>\n",
       "      <th>bpm</th>\n",
       "      <th>vorp</th>\n",
       "      <th>mvp_share</th>\n",
       "      <th>mvp_rank</th>\n",
       "      <th>first_place_votes</th>\n",
       "    </tr>\n",
       "  </thead>\n",
       "  <tbody>\n",
       "    <tr>\n",
       "      <th>0</th>\n",
       "      <td>Vince Carter</td>\n",
       "      <td>23</td>\n",
       "      <td>82</td>\n",
       "      <td>82</td>\n",
       "      <td>38.1</td>\n",
       "      <td>9.6</td>\n",
       "      <td>20.7</td>\n",
       "      <td>0.465</td>\n",
       "      <td>1.2</td>\n",
       "      <td>2.9</td>\n",
       "      <td>...</td>\n",
       "      <td>2.7</td>\n",
       "      <td>11.8</td>\n",
       "      <td>0.182</td>\n",
       "      <td>5.6</td>\n",
       "      <td>-0.1</td>\n",
       "      <td>5.5</td>\n",
       "      <td>5.9</td>\n",
       "      <td>0.042</td>\n",
       "      <td>10</td>\n",
       "      <td>0.0</td>\n",
       "    </tr>\n",
       "    <tr>\n",
       "      <th>1</th>\n",
       "      <td>Vince Carter</td>\n",
       "      <td>24</td>\n",
       "      <td>75</td>\n",
       "      <td>75</td>\n",
       "      <td>39.7</td>\n",
       "      <td>10.2</td>\n",
       "      <td>22.1</td>\n",
       "      <td>0.460</td>\n",
       "      <td>2.2</td>\n",
       "      <td>5.3</td>\n",
       "      <td>...</td>\n",
       "      <td>2.6</td>\n",
       "      <td>12.9</td>\n",
       "      <td>0.208</td>\n",
       "      <td>7.6</td>\n",
       "      <td>0.1</td>\n",
       "      <td>7.6</td>\n",
       "      <td>7.2</td>\n",
       "      <td>0.006</td>\n",
       "      <td>11T</td>\n",
       "      <td>0.0</td>\n",
       "    </tr>\n",
       "    <tr>\n",
       "      <th>2</th>\n",
       "      <td>Michael Finley</td>\n",
       "      <td>27</td>\n",
       "      <td>82</td>\n",
       "      <td>82</td>\n",
       "      <td>42.0</td>\n",
       "      <td>8.7</td>\n",
       "      <td>18.9</td>\n",
       "      <td>0.458</td>\n",
       "      <td>1.1</td>\n",
       "      <td>3.2</td>\n",
       "      <td>...</td>\n",
       "      <td>2.9</td>\n",
       "      <td>8.5</td>\n",
       "      <td>0.119</td>\n",
       "      <td>2.4</td>\n",
       "      <td>-0.5</td>\n",
       "      <td>1.9</td>\n",
       "      <td>3.4</td>\n",
       "      <td>0.001</td>\n",
       "      <td>15T</td>\n",
       "      <td>0.0</td>\n",
       "    </tr>\n",
       "    <tr>\n",
       "      <th>3</th>\n",
       "      <td>Dirk Nowitzki</td>\n",
       "      <td>23</td>\n",
       "      <td>76</td>\n",
       "      <td>76</td>\n",
       "      <td>38.0</td>\n",
       "      <td>7.9</td>\n",
       "      <td>16.6</td>\n",
       "      <td>0.477</td>\n",
       "      <td>1.8</td>\n",
       "      <td>4.6</td>\n",
       "      <td>...</td>\n",
       "      <td>3.1</td>\n",
       "      <td>13.4</td>\n",
       "      <td>0.222</td>\n",
       "      <td>5.4</td>\n",
       "      <td>0.1</td>\n",
       "      <td>5.5</td>\n",
       "      <td>5.5</td>\n",
       "      <td>0.025</td>\n",
       "      <td>8</td>\n",
       "      <td>0.0</td>\n",
       "    </tr>\n",
       "    <tr>\n",
       "      <th>4</th>\n",
       "      <td>Jerry Stackhouse</td>\n",
       "      <td>27</td>\n",
       "      <td>76</td>\n",
       "      <td>76</td>\n",
       "      <td>35.3</td>\n",
       "      <td>6.9</td>\n",
       "      <td>17.4</td>\n",
       "      <td>0.397</td>\n",
       "      <td>1.1</td>\n",
       "      <td>3.9</td>\n",
       "      <td>...</td>\n",
       "      <td>2.6</td>\n",
       "      <td>5.8</td>\n",
       "      <td>0.104</td>\n",
       "      <td>2.6</td>\n",
       "      <td>-1.2</td>\n",
       "      <td>1.4</td>\n",
       "      <td>2.4</td>\n",
       "      <td>0.002</td>\n",
       "      <td>15</td>\n",
       "      <td>0.0</td>\n",
       "    </tr>\n",
       "  </tbody>\n",
       "</table>\n",
       "<p>5 rows × 52 columns</p>\n",
       "</div>"
      ],
      "text/plain": [
       "             player  age   g  gs    mp    fg   fga    fg%   3p  3pa  ...  dws  \\\n",
       "0      Vince Carter   23  82  82  38.1   9.6  20.7  0.465  1.2  2.9  ...  2.7   \n",
       "1      Vince Carter   24  75  75  39.7  10.2  22.1  0.460  2.2  5.3  ...  2.6   \n",
       "2    Michael Finley   27  82  82  42.0   8.7  18.9  0.458  1.1  3.2  ...  2.9   \n",
       "3     Dirk Nowitzki   23  76  76  38.0   7.9  16.6  0.477  1.8  4.6  ...  3.1   \n",
       "4  Jerry Stackhouse   27  76  76  35.3   6.9  17.4  0.397  1.1  3.9  ...  2.6   \n",
       "\n",
       "     ws  ws/48  obpm  dbpm  bpm  vorp  mvp_share  mvp_rank  first_place_votes  \n",
       "0  11.8  0.182   5.6  -0.1  5.5   5.9      0.042        10                0.0  \n",
       "1  12.9  0.208   7.6   0.1  7.6   7.2      0.006       11T                0.0  \n",
       "2   8.5  0.119   2.4  -0.5  1.9   3.4      0.001       15T                0.0  \n",
       "3  13.4  0.222   5.4   0.1  5.5   5.5      0.025         8                0.0  \n",
       "4   5.8  0.104   2.6  -1.2  1.4   2.4      0.002        15                0.0  \n",
       "\n",
       "[5 rows x 52 columns]"
      ]
     },
     "execution_count": 5,
     "metadata": {},
     "output_type": "execute_result"
    }
   ],
   "source": [
    "from model import *\n",
    "\n",
    "years_test = [2022]\n",
    "metrics_df = pd.DataFrame()\n",
    "player_data.head()"
   ]
  },
  {
   "attachments": {},
   "cell_type": "markdown",
   "metadata": {},
   "source": [
    "### Support Vector Regression"
   ]
  },
  {
   "cell_type": "code",
   "execution_count": 6,
   "metadata": {},
   "outputs": [
    {
     "name": "stdout",
     "output_type": "stream",
     "text": [
      "{'C': 0.5, 'degree': 2, 'epsilon': 0.1, 'gamma': 'scale', 'kernel': 'rbf'}\n"
     ]
    },
    {
     "data": {
      "image/png": "[encoded data removed]",
      "text/plain": [
       "<Figure size 640x480 with 1 Axes>"
      ]
     },
     "metadata": {},
     "output_type": "display_data"
    },
    {
     "name": "stdout",
     "output_type": "stream",
     "text": [
      "                  Player  MVP Share (Actual)  MVP Share (SVR)\n",
      "0           Nikola Jokić               0.875         0.806016\n",
      "0            Joel Embiid               0.706         0.700782\n",
      "0  Giannis Antetokounmpo               0.595         0.784571\n"
     ]
    }
   ],
   "source": [
    "metrics_df = svm_model(player_data, metrics_df, years_test)"
   ]
  },
  {
   "attachments": {},
   "cell_type": "markdown",
   "metadata": {},
   "source": [
    "### Random Forest"
   ]
  },
  {
   "cell_type": "code",
   "execution_count": 7,
   "metadata": {},
   "outputs": [
    {
     "name": "stderr",
     "output_type": "stream",
     "text": [
      "/Users/darrenhoang/anaconda3/envs/nba/lib/python3.11/site-packages/sklearn/ensemble/_forest.py:578: UserWarning: Some inputs do not have OOB scores. This probably means too few trees were used to compute any reliable OOB estimates.\n",
      "  warn(\n",
      "/Users/darrenhoang/anaconda3/envs/nba/lib/python3.11/site-packages/sklearn/ensemble/_forest.py:578: UserWarning: Some inputs do not have OOB scores. This probably means too few trees were used to compute any reliable OOB estimates.\n",
      "  warn(\n",
      "/Users/darrenhoang/anaconda3/envs/nba/lib/python3.11/site-packages/sklearn/ensemble/_forest.py:578: UserWarning: Some inputs do not have OOB scores. This probably means too few trees were used to compute any reliable OOB estimates.\n",
      "  warn(\n"
     ]
    },
    {
     "name": "stdout",
     "output_type": "stream",
     "text": [
      "{'bootstrap': True, 'max_features': 5, 'n_estimators': 64, 'oob_score': True}\n"
     ]
    },
    {
     "name": "stderr",
     "output_type": "stream",
     "text": [
      "/Users/darrenhoang/anaconda3/envs/nba/lib/python3.11/site-packages/sklearn/model_selection/_validation.py:425: FitFailedWarning: \n",
      "140 fits failed out of a total of 280.\n",
      "The score on these train-test partitions for these parameters will be set to nan.\n",
      "If these failures are not expected, you can try to debug them by setting error_score='raise'.\n",
      "\n",
      "Below are more details about the failures:\n",
      "--------------------------------------------------------------------------------\n",
      "140 fits failed with the following error:\n",
      "Traceback (most recent call last):\n",
      "  File \"/Users/darrenhoang/anaconda3/envs/nba/lib/python3.11/site-packages/sklearn/model_selection/_validation.py\", line 732, in _fit_and_score\n",
      "    estimator.fit(X_train, y_train, **fit_params)\n",
      "  File \"/Users/darrenhoang/anaconda3/envs/nba/lib/python3.11/site-packages/sklearn/base.py\", line 1151, in wrapper\n",
      "    return fit_method(estimator, *args, **kwargs)\n",
      "           ^^^^^^^^^^^^^^^^^^^^^^^^^^^^^^^^^^^^^^\n",
      "  File \"/Users/darrenhoang/anaconda3/envs/nba/lib/python3.11/site-packages/sklearn/ensemble/_forest.py\", line 417, in fit\n",
      "    raise ValueError(\"Out of bag estimation only available if bootstrap=True\")\n",
      "ValueError: Out of bag estimation only available if bootstrap=True\n",
      "\n",
      "  warnings.warn(some_fits_failed_message, FitFailedWarning)\n",
      "/Users/darrenhoang/anaconda3/envs/nba/lib/python3.11/site-packages/sklearn/model_selection/_search.py:976: UserWarning: One or more of the test scores are non-finite: [0.42726062 0.42484756 0.4988773  0.48601913 0.49274083 0.47813222\n",
      " 0.49059358 0.46259161 0.47169709 0.51986206 0.52361387 0.50898083\n",
      " 0.5122633  0.53408017 0.41298994 0.51196434 0.55245549 0.49960328\n",
      " 0.52509248 0.51281957 0.5242103  0.46251391 0.52902312 0.5420881\n",
      " 0.55637839 0.5443936  0.52575844 0.53287096        nan        nan\n",
      "        nan        nan        nan        nan        nan        nan\n",
      "        nan        nan        nan        nan        nan        nan\n",
      "        nan        nan        nan        nan        nan        nan\n",
      "        nan        nan        nan        nan        nan        nan\n",
      "        nan        nan]\n",
      "  warnings.warn(\n"
     ]
    },
    {
     "data": {
      "image/png": "[encoded data removed]",
      "text/plain": [
       "<Figure size 640x480 with 1 Axes>"
      ]
     },
     "metadata": {},
     "output_type": "display_data"
    },
    {
     "name": "stdout",
     "output_type": "stream",
     "text": [
      "                  Player  MVP Share (Actual)  MVP Share (Random Forest)\n",
      "0           Nikola Jokić               0.875                   0.766578\n",
      "0            Joel Embiid               0.706                   0.448734\n",
      "0  Giannis Antetokounmpo               0.595                   0.652062\n"
     ]
    }
   ],
   "source": [
    "metrics_df = random_forest_model(player_data, metrics_df, years_test)"
   ]
  },
  {
   "attachments": {},
   "cell_type": "markdown",
   "metadata": {},
   "source": [
    "### ElasticNet"
   ]
  },
  {
   "cell_type": "code",
   "execution_count": 8,
   "metadata": {},
   "outputs": [
    {
     "name": "stderr",
     "output_type": "stream",
     "text": [
      "/Users/darrenhoang/anaconda3/envs/nba/lib/python3.11/site-packages/sklearn/linear_model/_coordinate_descent.py:628: ConvergenceWarning: Objective did not converge. You might want to increase the number of iterations, check the scale of the features or consider increasing regularisation. Duality gap: 4.401e-03, tolerance: 1.349e-03\n",
      "  model = cd_fast.enet_coordinate_descent(\n",
      "/Users/darrenhoang/anaconda3/envs/nba/lib/python3.11/site-packages/sklearn/linear_model/_coordinate_descent.py:628: ConvergenceWarning: Objective did not converge. You might want to increase the number of iterations, check the scale of the features or consider increasing regularisation. Duality gap: 2.781e-03, tolerance: 1.158e-03\n",
      "  model = cd_fast.enet_coordinate_descent(\n",
      "/Users/darrenhoang/anaconda3/envs/nba/lib/python3.11/site-packages/sklearn/linear_model/_coordinate_descent.py:628: ConvergenceWarning: Objective did not converge. You might want to increase the number of iterations, check the scale of the features or consider increasing regularisation. Duality gap: 1.113e-02, tolerance: 1.142e-03\n",
      "  model = cd_fast.enet_coordinate_descent(\n",
      "/Users/darrenhoang/anaconda3/envs/nba/lib/python3.11/site-packages/sklearn/linear_model/_coordinate_descent.py:628: ConvergenceWarning: Objective did not converge. You might want to increase the number of iterations, check the scale of the features or consider increasing regularisation. Duality gap: 1.158e-02, tolerance: 1.271e-03\n",
      "  model = cd_fast.enet_coordinate_descent(\n"
     ]
    },
    {
     "name": "stdout",
     "output_type": "stream",
     "text": [
      "{'alpha': 0.1, 'l1_ratio': 0.01}\n"
     ]
    },
    {
     "data": {
      "image/png": "[encoded data removed]",
      "text/plain": [
       "<Figure size 640x480 with 1 Axes>"
      ]
     },
     "metadata": {},
     "output_type": "display_data"
    },
    {
     "name": "stdout",
     "output_type": "stream",
     "text": [
      "                  Player  MVP Share (Actual)  MVP Share (ElasticNet)\n",
      "0           Nikola Jokić               0.875                0.704840\n",
      "0            Joel Embiid               0.706                0.491596\n",
      "0  Giannis Antetokounmpo               0.595                0.512930\n"
     ]
    }
   ],
   "source": [
    "metrics_df = elastic_net_model(player_data, metrics_df, years_test)"
   ]
  },
  {
   "attachments": {},
   "cell_type": "markdown",
   "metadata": {},
   "source": [
    "### AdaBoost"
   ]
  },
  {
   "cell_type": "code",
   "execution_count": 9,
   "metadata": {},
   "outputs": [
    {
     "name": "stdout",
     "output_type": "stream",
     "text": [
      "{'learning_rate': 0.05, 'n_estimators': 20}\n"
     ]
    },
    {
     "data": {
      "image/png": "[encoded data removed]",
      "text/plain": [
       "<Figure size 640x480 with 1 Axes>"
      ]
     },
     "metadata": {},
     "output_type": "display_data"
    },
    {
     "name": "stdout",
     "output_type": "stream",
     "text": [
      "                  Player  MVP Share (Actual)  MVP Share (AdaBoost)\n",
      "0           Nikola Jokić               0.875              0.835280\n",
      "0            Joel Embiid               0.706              0.543156\n",
      "0  Giannis Antetokounmpo               0.595              0.768000\n"
     ]
    }
   ],
   "source": [
    "metrics_df = adaboost_model(player_data, metrics_df, years_test)"
   ]
  },
  {
   "attachments": {},
   "cell_type": "markdown",
   "metadata": {},
   "source": [
    "### Gradient Boost"
   ]
  },
  {
   "cell_type": "code",
   "execution_count": 10,
   "metadata": {},
   "outputs": [
    {
     "name": "stdout",
     "output_type": "stream",
     "text": [
      "{'learning_rate': 0.1, 'max_depth': 3, 'n_estimators': 40}\n"
     ]
    },
    {
     "data": {
      "image/png": "[encoded data removed]",
      "text/plain": [
       "<Figure size 640x480 with 1 Axes>"
      ]
     },
     "metadata": {},
     "output_type": "display_data"
    },
    {
     "name": "stdout",
     "output_type": "stream",
     "text": [
      "                  Player  MVP Share (Actual)  MVP Share (GradientBoost)\n",
      "0           Nikola Jokić               0.875                   0.604075\n",
      "0            Joel Embiid               0.706                   0.637739\n",
      "0  Giannis Antetokounmpo               0.595                   0.718241\n"
     ]
    }
   ],
   "source": [
    "metrics_df = gradientboost_model(player_data, metrics_df, years_test)"
   ]
  },
  {
   "attachments": {},
   "cell_type": "markdown",
   "metadata": {},
   "source": [
    "### Final Results"
   ]
  },
  {
   "cell_type": "code",
   "execution_count": 11,
   "metadata": {},
   "outputs": [
    {
     "data": {
      "text/html": [
       "<div>\n",
       "<style scoped>\n",
       "    .dataframe tbody tr th:only-of-type {\n",
       "        vertical-align: middle;\n",
       "    }\n",
       "\n",
       "    .dataframe tbody tr th {\n",
       "        vertical-align: top;\n",
       "    }\n",
       "\n",
       "    .dataframe thead th {\n",
       "        text-align: right;\n",
       "    }\n",
       "</style>\n",
       "<table border=\"1\" class=\"dataframe\">\n",
       "  <thead>\n",
       "    <tr style=\"text-align: right;\">\n",
       "      <th></th>\n",
       "      <th>Model</th>\n",
       "      <th>Year</th>\n",
       "      <th>RMSE</th>\n",
       "      <th>R2</th>\n",
       "    </tr>\n",
       "  </thead>\n",
       "  <tbody>\n",
       "    <tr>\n",
       "      <th>0</th>\n",
       "      <td>SVR</td>\n",
       "      <td>2022</td>\n",
       "      <td>0.125755</td>\n",
       "      <td>0.838022</td>\n",
       "    </tr>\n",
       "    <tr>\n",
       "      <th>0</th>\n",
       "      <td>Random Forest</td>\n",
       "      <td>2022</td>\n",
       "      <td>0.141400</td>\n",
       "      <td>0.795213</td>\n",
       "    </tr>\n",
       "    <tr>\n",
       "      <th>0</th>\n",
       "      <td>ElasticNet</td>\n",
       "      <td>2022</td>\n",
       "      <td>0.141311</td>\n",
       "      <td>0.795468</td>\n",
       "    </tr>\n",
       "    <tr>\n",
       "      <th>0</th>\n",
       "      <td>AdaBoost</td>\n",
       "      <td>2022</td>\n",
       "      <td>0.096289</td>\n",
       "      <td>0.905035</td>\n",
       "    </tr>\n",
       "    <tr>\n",
       "      <th>0</th>\n",
       "      <td>GradientBoost</td>\n",
       "      <td>2022</td>\n",
       "      <td>0.126648</td>\n",
       "      <td>0.835713</td>\n",
       "    </tr>\n",
       "  </tbody>\n",
       "</table>\n",
       "</div>"
      ],
      "text/plain": [
       "           Model  Year      RMSE        R2\n",
       "0            SVR  2022  0.125755  0.838022\n",
       "0  Random Forest  2022  0.141400  0.795213\n",
       "0     ElasticNet  2022  0.141311  0.795468\n",
       "0       AdaBoost  2022  0.096289  0.905035\n",
       "0  GradientBoost  2022  0.126648  0.835713"
      ]
     },
     "execution_count": 11,
     "metadata": {},
     "output_type": "execute_result"
    }
   ],
   "source": [
    "metrics_df"
   ]
  },
  {
   "cell_type": "code",
   "execution_count": null,
   "metadata": {},
   "outputs": [],
   "source": []
  }
 ],
 "metadata": {
  "kernelspec": {
   "display_name": "nba",
   "language": "python",
   "name": "python3"
  },
  "language_info": {
   "codemirror_mode": {
    "name": "ipython",
    "version": 3
   },
   "file_extension": ".py",
   "mimetype": "text/x-python",
   "name": "python",
   "nbconvert_exporter": "python",
   "pygments_lexer": "ipython3",
   "version": "3.11.3"
  },
  "orig_nbformat": 4
 },
 "nbformat": 4,
 "nbformat_minor": 2
}
